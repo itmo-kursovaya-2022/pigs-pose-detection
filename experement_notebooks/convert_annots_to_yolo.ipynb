{
 "cells": [
  {
   "cell_type": "code",
   "execution_count": 2,
   "metadata": {},
   "outputs": [],
   "source": [
    "import json\n",
    "import os\n",
    "import cv2\n",
    "import shutil\n",
    "classes = [\"eat\", \"lying\", \"sitting\", \"standing\"]\n",
    "class_to_class = {\"drink\": \"eat\",\n",
    "                  \"chase\": \"standing\",\n",
    "                  \"run\": \"standing\",\n",
    "                  \"walk\": \"standing\",\n",
    "                  \"fight\": \"standing\",\n",
    "                  \"jumpontopof\": \"standing\",\n",
    "                  \"nose-to-nose\": \"standing\",\n",
    "                  \"nose-poke-elsewhere\": \"standing\",\n",
    "                  \"playwithtoy\": \"standing\",\n",
    "                  \"other\": \"standing\",\n",
    "                  \"investigating\": \"standing\",\n",
    "                  \"sleep\": \"lying\"}"
   ]
  },
  {
   "cell_type": "code",
   "execution_count": 3,
   "metadata": {},
   "outputs": [],
   "source": [
    "img_h = 720\n",
    "img_w = 1280\n",
    "with open('detection_annotations.json') as f:\n",
    "    orig_annotation = json.load(f)\n",
    "train_annots = orig_annotation[:int(len(orig_annotation)*0.8)]\n",
    "val_annots = orig_annotation[int(len(orig_annotation)*0.8):]"
   ]
  },
  {
   "cell_type": "code",
   "execution_count": 44,
   "metadata": {},
   "outputs": [],
   "source": [
    "base_path = 'detection_dataset'\n",
    "out_path = 'detection_dataset_yolo'\n",
    "mod = 'validation'\n",
    "for image_annot in val_annots:\n",
    "    filename = image_annot['frame_filename'].split('.')[0]\n",
    "    shutil.copyfile(os.path.join(base_path, f'{filename}.jpeg'),\n",
    "                    os.path.join(out_path, 'images', mod, f'{filename}.jpeg'))\n",
    "    with open(os.path.join(out_path, 'labels', mod, f'{filename}.txt'), 'w') as f:\n",
    "        for box_annot in image_annot['bboxes']:\n",
    "            bbox = box_annot['bbox']\n",
    "            class_idx = classes.index(box_annot['behaviour'])\n",
    "            f.write(f\"{class_idx} {(bbox['x']+bbox['width']/2)/img_w} {(bbox['y']+bbox['height']/2)/img_h} {bbox['width']/img_w} {bbox['height']/img_h}\\n\")"
   ]
  },
  {
   "cell_type": "code",
   "execution_count": 5,
   "metadata": {},
   "outputs": [],
   "source": [
    "# use class_to_class\n",
    "base_path = 'detection_dataset_masked'\n",
    "out_path = 'pigs_detection_dataset_yolo_masked_union'\n",
    "mod = 'validation'\n",
    "for image_annot in val_annots:\n",
    "    filename = image_annot['frame_filename'].split('.')[0]\n",
    "    shutil.copyfile(os.path.join(base_path, f'{filename}.jpeg'),\n",
    "                    os.path.join(out_path, 'images', mod, f'{filename}.jpeg'))\n",
    "    with open(os.path.join(out_path, 'labels', mod, f'{filename}.txt'), 'w') as f:\n",
    "        for box_annot in image_annot['bboxes']:\n",
    "            bbox = box_annot['bbox']\n",
    "            class_idx = classes.index(class_to_class.get(box_annot['behaviour'], box_annot['behaviour']))\n",
    "            f.write(f\"{class_idx} {(bbox['x']+bbox['width']/2)/img_w} {(bbox['y']+bbox['height']/2)/img_h} {bbox['width']/img_w} {bbox['height']/img_h}\\n\")"
   ]
  },
  {
   "cell_type": "code",
   "execution_count": null,
   "metadata": {},
   "outputs": [],
   "source": []
  }
 ],
 "metadata": {
  "kernelspec": {
   "display_name": "Python 3",
   "language": "python",
   "name": "python3"
  },
  "language_info": {
   "codemirror_mode": {
    "name": "ipython",
    "version": 3
   },
   "file_extension": ".py",
   "mimetype": "text/x-python",
   "name": "python",
   "nbconvert_exporter": "python",
   "pygments_lexer": "ipython3",
   "version": "3.7.6"
  }
 },
 "nbformat": 4,
 "nbformat_minor": 4
}
